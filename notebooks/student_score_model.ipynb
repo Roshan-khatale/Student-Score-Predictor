{
  "cells": [
    {
      "cell_type": "code",
      "execution_count": null,
      "metadata": {},
      "outputs": [],
      "source": [
        "import pandas as pd\n",
        "from sklearn.linear_model import LinearRegression\n",
        "import matplotlib.pyplot as plt\n\n",
        "df = pd.read_csv('../data/students.csv')\n",
        "X = df[['Hours']]\n",
        "y = df['Scores']\n\n",
        "model = LinearRegression()\n",
        "model.fit(X, y)\n\n",
        "plt.scatter(X, y)\n",
        "plt.plot(X, model.predict(X), color='red')\n",
        "plt.xlabel('Hours Studied')\n",
        "plt.ylabel('Score')\n",
        "plt.title('Study Hours vs Score')\n",
        "plt.show()"
      ]
    }
  ],
  "metadata": {},
  "nbformat": 4,
  "nbformat_minor": 5
}